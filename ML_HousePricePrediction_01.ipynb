{
 "cells": [
  {
   "cell_type": "markdown",
   "id": "8a4079f8",
   "metadata": {},
   "source": [
    "# Predicting House Prices Using  Linear Regression\n",
    "\n",
    "In this project we are gonna see how machine learning algorithms help us predict house prices. Linear Regression is a model of predicting new future data by using the existing correlation between the old data. Here, machine learning helps us identify this relationship between feature data and output, so we can predict future values."
   ]
  },
  {
   "cell_type": "code",
   "execution_count": 5,
   "id": "c1416c59",
   "metadata": {},
   "outputs": [],
   "source": [
    "import pandas as pd\n",
    "# we use sklearn library in many machine learning calculations..\n",
    "from sklearn import linear_model\n",
    "\n",
    "# we import out dataset: housepricesdataset.csv\n",
    "df = pd.read_csv(\"housepricesdataset.csv\",sep = \";\")\n"
   ]
  },
  {
   "cell_type": "code",
   "execution_count": 6,
   "id": "cfcaf07e",
   "metadata": {},
   "outputs": [
    {
     "data": {
      "text/html": [
       "<div>\n",
       "<style scoped>\n",
       "    .dataframe tbody tr th:only-of-type {\n",
       "        vertical-align: middle;\n",
       "    }\n",
       "\n",
       "    .dataframe tbody tr th {\n",
       "        vertical-align: top;\n",
       "    }\n",
       "\n",
       "    .dataframe thead th {\n",
       "        text-align: right;\n",
       "    }\n",
       "</style>\n",
       "<table border=\"1\" class=\"dataframe\">\n",
       "  <thead>\n",
       "    <tr style=\"text-align: right;\">\n",
       "      <th></th>\n",
       "      <th>area</th>\n",
       "      <th>bedroom</th>\n",
       "      <th>bathroom</th>\n",
       "      <th>price</th>\n",
       "    </tr>\n",
       "  </thead>\n",
       "  <tbody>\n",
       "    <tr>\n",
       "      <th>0</th>\n",
       "      <td>180</td>\n",
       "      <td>5</td>\n",
       "      <td>1</td>\n",
       "      <td>510000</td>\n",
       "    </tr>\n",
       "    <tr>\n",
       "      <th>1</th>\n",
       "      <td>225</td>\n",
       "      <td>4</td>\n",
       "      <td>1</td>\n",
       "      <td>508000</td>\n",
       "    </tr>\n",
       "    <tr>\n",
       "      <th>2</th>\n",
       "      <td>260</td>\n",
       "      <td>3</td>\n",
       "      <td>2</td>\n",
       "      <td>548000</td>\n",
       "    </tr>\n",
       "    <tr>\n",
       "      <th>3</th>\n",
       "      <td>320</td>\n",
       "      <td>6</td>\n",
       "      <td>1</td>\n",
       "      <td>650000</td>\n",
       "    </tr>\n",
       "    <tr>\n",
       "      <th>4</th>\n",
       "      <td>335</td>\n",
       "      <td>4</td>\n",
       "      <td>9</td>\n",
       "      <td>628000</td>\n",
       "    </tr>\n",
       "    <tr>\n",
       "      <th>5</th>\n",
       "      <td>345</td>\n",
       "      <td>5</td>\n",
       "      <td>4</td>\n",
       "      <td>632000</td>\n",
       "    </tr>\n",
       "    <tr>\n",
       "      <th>6</th>\n",
       "      <td>355</td>\n",
       "      <td>3</td>\n",
       "      <td>0</td>\n",
       "      <td>680000</td>\n",
       "    </tr>\n",
       "    <tr>\n",
       "      <th>7</th>\n",
       "      <td>400</td>\n",
       "      <td>4</td>\n",
       "      <td>10</td>\n",
       "      <td>725000</td>\n",
       "    </tr>\n",
       "  </tbody>\n",
       "</table>\n",
       "</div>"
      ],
      "text/plain": [
       "   area  bedroom  bathroom   price\n",
       "0   180        5         1  510000\n",
       "1   225        4         1  508000\n",
       "2   260        3         2  548000\n",
       "3   320        6         1  650000\n",
       "4   335        4         9  628000\n",
       "5   345        5         4  632000\n",
       "6   355        3         0  680000\n",
       "7   400        4        10  725000"
      ]
     },
     "execution_count": 6,
     "metadata": {},
     "output_type": "execute_result"
    }
   ],
   "source": [
    "# lets see and check our data set:\n",
    "df"
   ]
  },
  {
   "cell_type": "markdown",
   "id": "0ad1a228",
   "metadata": {},
   "source": [
    "### The following is our feature set:"
   ]
  },
  {
   "cell_type": "code",
   "execution_count": 7,
   "id": "c65de2c8",
   "metadata": {},
   "outputs": [
    {
     "data": {
      "text/html": [
       "<div>\n",
       "<style scoped>\n",
       "    .dataframe tbody tr th:only-of-type {\n",
       "        vertical-align: middle;\n",
       "    }\n",
       "\n",
       "    .dataframe tbody tr th {\n",
       "        vertical-align: top;\n",
       "    }\n",
       "\n",
       "    .dataframe thead th {\n",
       "        text-align: right;\n",
       "    }\n",
       "</style>\n",
       "<table border=\"1\" class=\"dataframe\">\n",
       "  <thead>\n",
       "    <tr style=\"text-align: right;\">\n",
       "      <th></th>\n",
       "      <th>area</th>\n",
       "      <th>bedroom</th>\n",
       "      <th>bathroom</th>\n",
       "    </tr>\n",
       "  </thead>\n",
       "  <tbody>\n",
       "    <tr>\n",
       "      <th>0</th>\n",
       "      <td>180</td>\n",
       "      <td>5</td>\n",
       "      <td>1</td>\n",
       "    </tr>\n",
       "    <tr>\n",
       "      <th>1</th>\n",
       "      <td>225</td>\n",
       "      <td>4</td>\n",
       "      <td>1</td>\n",
       "    </tr>\n",
       "    <tr>\n",
       "      <th>2</th>\n",
       "      <td>260</td>\n",
       "      <td>3</td>\n",
       "      <td>2</td>\n",
       "    </tr>\n",
       "    <tr>\n",
       "      <th>3</th>\n",
       "      <td>320</td>\n",
       "      <td>6</td>\n",
       "      <td>1</td>\n",
       "    </tr>\n",
       "    <tr>\n",
       "      <th>4</th>\n",
       "      <td>335</td>\n",
       "      <td>4</td>\n",
       "      <td>9</td>\n",
       "    </tr>\n",
       "    <tr>\n",
       "      <th>5</th>\n",
       "      <td>345</td>\n",
       "      <td>5</td>\n",
       "      <td>4</td>\n",
       "    </tr>\n",
       "    <tr>\n",
       "      <th>6</th>\n",
       "      <td>355</td>\n",
       "      <td>3</td>\n",
       "      <td>0</td>\n",
       "    </tr>\n",
       "    <tr>\n",
       "      <th>7</th>\n",
       "      <td>400</td>\n",
       "      <td>4</td>\n",
       "      <td>10</td>\n",
       "    </tr>\n",
       "  </tbody>\n",
       "</table>\n",
       "</div>"
      ],
      "text/plain": [
       "   area  bedroom  bathroom\n",
       "0   180        5         1\n",
       "1   225        4         1\n",
       "2   260        3         2\n",
       "3   320        6         1\n",
       "4   335        4         9\n",
       "5   345        5         4\n",
       "6   355        3         0\n",
       "7   400        4        10"
      ]
     },
     "execution_count": 7,
     "metadata": {},
     "output_type": "execute_result"
    }
   ],
   "source": [
    "df[['area', 'bedroom', 'bathroom']]"
   ]
  },
  {
   "cell_type": "markdown",
   "id": "ff18c0a7",
   "metadata": {},
   "source": [
    "### The following is the output(result) data:"
   ]
  },
  {
   "cell_type": "code",
   "execution_count": 8,
   "id": "e6180033",
   "metadata": {},
   "outputs": [
    {
     "data": {
      "text/plain": [
       "0    510000\n",
       "1    508000\n",
       "2    548000\n",
       "3    650000\n",
       "4    628000\n",
       "5    632000\n",
       "6    680000\n",
       "7    725000\n",
       "Name: price, dtype: int64"
      ]
     },
     "execution_count": 8,
     "metadata": {},
     "output_type": "execute_result"
    }
   ],
   "source": [
    "df['price']"
   ]
  },
  {
   "cell_type": "code",
   "execution_count": 9,
   "id": "38e4153f",
   "metadata": {},
   "outputs": [
    {
     "data": {
      "text/plain": [
       "LinearRegression()"
      ]
     },
     "execution_count": 9,
     "metadata": {},
     "output_type": "execute_result"
    }
   ],
   "source": [
    "# we define a linear regression model here:\n",
    "\n",
    "reg = linear_model.LinearRegression()\n",
    "reg.fit(df[['area', 'bedroom', 'bathroom']], df['price'])\n",
    "\n"
   ]
  },
  {
   "cell_type": "markdown",
   "id": "ff752cd1",
   "metadata": {},
   "source": [
    "#### Since our model is ready, we can make predictions now:"
   ]
  },
  {
   "cell_type": "code",
   "execution_count": 10,
   "id": "7b14d2c8",
   "metadata": {},
   "outputs": [
    {
     "name": "stderr",
     "output_type": "stream",
     "text": [
      "C:\\Users\\Tinuanandh\\anaconda3\\lib\\site-packages\\sklearn\\base.py:450: UserWarning: X does not have valid feature names, but LinearRegression was fitted with feature names\n",
      "  warnings.warn(\n"
     ]
    },
    {
     "data": {
      "text/plain": [
       "array([532518.53192477])"
      ]
     },
     "execution_count": 10,
     "metadata": {},
     "output_type": "execute_result"
    }
   ],
   "source": [
    "# lets predict a house with 230 square meters, 4 bedrooms and 1 bathroom..\n",
    "\n",
    "reg.predict([[230,4,1]])"
   ]
  },
  {
   "cell_type": "markdown",
   "id": "dd554dfa",
   "metadata": {},
   "source": [
    "#### Now lets predict a house with 230 square meters, 6 bedrooms and 0 bathroom.."
   ]
  },
  {
   "cell_type": "code",
   "execution_count": 11,
   "id": "71904ed1",
   "metadata": {},
   "outputs": [
    {
     "name": "stderr",
     "output_type": "stream",
     "text": [
      "C:\\Users\\Tinuanandh\\anaconda3\\lib\\site-packages\\sklearn\\base.py:450: UserWarning: X does not have valid feature names, but LinearRegression was fitted with feature names\n",
      "  warnings.warn(\n"
     ]
    },
    {
     "data": {
      "text/plain": [
       "array([547698.4900192])"
      ]
     },
     "execution_count": 11,
     "metadata": {},
     "output_type": "execute_result"
    }
   ],
   "source": [
    "reg.predict([[230,6,0]])"
   ]
  },
  {
   "cell_type": "markdown",
   "id": "9444336d",
   "metadata": {},
   "source": [
    "#### Now lets predict a house with 355 square meters, 3 bedrooms and 2 bathroom"
   ]
  },
  {
   "cell_type": "code",
   "execution_count": 12,
   "id": "78023486",
   "metadata": {},
   "outputs": [
    {
     "name": "stderr",
     "output_type": "stream",
     "text": [
      "C:\\Users\\Tinuanandh\\anaconda3\\lib\\site-packages\\sklearn\\base.py:450: UserWarning: X does not have valid feature names, but LinearRegression was fitted with feature names\n",
      "  warnings.warn(\n"
     ]
    },
    {
     "data": {
      "text/plain": [
       "array([661638.20056961])"
      ]
     },
     "execution_count": 12,
     "metadata": {},
     "output_type": "execute_result"
    }
   ],
   "source": [
    "reg.predict([[355,3,2]])"
   ]
  },
  {
   "cell_type": "code",
   "execution_count": 13,
   "id": "084a81f6",
   "metadata": {},
   "outputs": [
    {
     "name": "stderr",
     "output_type": "stream",
     "text": [
      "C:\\Users\\Tinuanandh\\anaconda3\\lib\\site-packages\\sklearn\\base.py:450: UserWarning: X does not have valid feature names, but LinearRegression was fitted with feature names\n",
      "  warnings.warn(\n"
     ]
    },
    {
     "data": {
      "text/plain": [
       "array([532518.53192477, 547698.4900192 , 661638.20056961, 588833.00377652])"
      ]
     },
     "execution_count": 13,
     "metadata": {},
     "output_type": "execute_result"
    }
   ],
   "source": [
    "# You can make as many prediction as you want..\n",
    "reg.predict([[230,4,1], [230,6,0], [355,3,2], [275, 5, 1]])"
   ]
  },
  {
   "cell_type": "code",
   "execution_count": null,
   "id": "4b17c82b",
   "metadata": {},
   "outputs": [],
   "source": []
  },
  {
   "cell_type": "code",
   "execution_count": null,
   "id": "0ba9d587",
   "metadata": {},
   "outputs": [],
   "source": []
  }
 ],
 "metadata": {
  "kernelspec": {
   "display_name": "Python 3 (ipykernel)",
   "language": "python",
   "name": "python3"
  },
  "language_info": {
   "codemirror_mode": {
    "name": "ipython",
    "version": 3
   },
   "file_extension": ".py",
   "mimetype": "text/x-python",
   "name": "python",
   "nbconvert_exporter": "python",
   "pygments_lexer": "ipython3",
   "version": "3.9.13"
  }
 },
 "nbformat": 4,
 "nbformat_minor": 5
}
